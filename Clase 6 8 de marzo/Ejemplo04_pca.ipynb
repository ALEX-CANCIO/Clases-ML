{
  "nbformat": 4,
  "nbformat_minor": 0,
  "metadata": {
    "colab": {
      "name": "Ejemplo04_pca.ipynb",
      "provenance": [],
      "collapsed_sections": []
    },
    "kernelspec": {
      "name": "python3",
      "display_name": "Python 3"
    }
  },
  "cells": [
    {
      "cell_type": "markdown",
      "metadata": {
        "id": "kXiRbjE4K9-A",
        "colab_type": "text"
      },
      "source": [
        "# Análisis de componentes principales para la reducción de la dimensionalidad\n",
        "\n"
      ]
    },
    {
      "cell_type": "markdown",
      "metadata": {
        "id": "loou0C-eLKBe",
        "colab_type": "text"
      },
      "source": [
        "¡Aprenda a realizar PCA aprendiendo las matemáticas detrás del algoritmo y ejecutándolo paso a paso con Python!\n",
        "\n",
        "En la era moderna de la tecnología, se producen y recopilan cantidades crecientes de datos. Sin embargo, en el aprendizaje automático, demasiados datos pueden ser algo malo. En cierto punto, más características o dimensiones pueden disminuir la precisión de un modelo, ya que hay más datos que deben generalizarse; esto se conoce como la maldición de la dimensionalidad.\n",
        "\n",
        "La reducción de la dimensionalidad es una forma de reducir la complejidad de un modelo y evitar el sobreajuste. Hay dos categorías principales de reducción de dimensionalidad: selección de características y extracción de características. Mediante la selección de características, seleccionamos un subconjunto de las características originales, mientras que en la extracción de características, derivamos información del conjunto de características para construir un nuevo subespacio de características.\n",
        "\n",
        "En este tutorial exploraremos la extracción de características. En la práctica, la extracción de características no solo se utiliza para mejorar el espacio de almacenamiento o la eficiencia computacional del algoritmo de aprendizaje, sino que también puede mejorar el rendimiento predictivo al reducir la maldición de la dimensionalidad, especialmente si estamos trabajando con modelos no regularizados.\n",
        "\n",
        "Específicamente, analizaremos el algoritmo de Análisis de componentes principales (PCA) utilizado para comprimir un conjunto de datos en un subespacio de características de dimensiones más bajas con el objetivo de mantener la mayor parte de la información relevante. Exploraremos:\n",
        "\n",
        "> Los conceptos y las matemáticas detrás de PCA\n",
        "\n",
        "> Cómo ejecutar PCA paso a paso desde cero usando Python\n",
        "\n",
        "> Cómo ejecutar PCA usando la biblioteca Python scikit-learn\n",
        "\n",
        "\n",
        "\n"
      ]
    },
    {
      "cell_type": "markdown",
      "metadata": {
        "id": "AFqCUDOzQkla",
        "colab_type": "text"
      },
      "source": [
        "## <font color='blue'>Introduction to Principal Component Analysis</font> \n",
        "\n",
        "El __análisis de componentes principales (PCA)__  es una técnica de transformación lineal no supervisada que se utiliza ampliamente en diferentes campos, principalmente para la extracción de características y la reducción de la dimensionalidad. Otras aplicaciones populares de PCA incluyen análisis de datos exploratorios y eliminación de ruido de señales en el mercado bursátil, y el análisis de datos de genoma y niveles de expresión génica en el campo de la bioinformática.\n",
        "\n",
        "PCA nos ayuda a identificar patrones en los datos basados en la correlación entre características. En pocas palabras, PCA tiene como objetivo encontrar las direcciones de variación máxima en datos de alta dimensión y los proyecta en un nuevo subespacio con dimensiones iguales o menores que el original.\n",
        "\n",
        "Los ejes ortogonales (componentes principales) del nuevo subespacio se pueden interpretar como las direcciones de variación máxima dada la restricción de que los nuevos ejes de características son ortogonales entre sí, como se ilustra en la siguiente figura:\n",
        "\n",
        "![Componentes Principales](https://raw.githubusercontent.com/robintux/Images4Colabs/master/PCA1.jpeg)\n",
        "\n",
        "En la figura anterior, x1 y x2 son los ejes de características originales, y PC1 y PC2 son los componentes principales.\n",
        "\n",
        "\n"
      ]
    },
    {
      "cell_type": "markdown",
      "metadata": {
        "id": "1JWE1ieQTXC_",
        "colab_type": "text"
      },
      "source": [
        "## <font color='blue'>Extrayendo los componentes principales paso a paso</font> \n",
        "\n",
        "Usaremos el conjunto de datos _Wine_ del repositorio de aprendizaje automático de UCI en nuestro ejemplo. Este conjunto de datos consta de 178 muestras de vino con 13 características que describen sus diferentes propiedades químicas. Puedes encontrar mas informacion en el siguiente enlace :\n",
        "\n",
        "[Wine Data Set](https://archive.ics.uci.edu/ml/datasets/wine)\n",
        "\n",
        "Ahora si .... __A programar !!!__\n",
        "\n",
        "\n",
        "\n",
        "\n"
      ]
    },
    {
      "cell_type": "code",
      "metadata": {
        "id": "E9Akwx1PLF_w",
        "colab_type": "code",
        "outputId": "0df93d01-7f2f-4b76-a4ff-a9c04bd248ca",
        "colab": {
          "base_uri": "https://localhost:8080/",
          "height": 204
        }
      },
      "source": [
        "# Importamos el modulo pandas \n",
        "import pandas as pd\n",
        "\n",
        "\n",
        "# Cargamos en memoria el dataset \n",
        "df_wine = pd.read_csv('https://archive.ics.uci.edu/ml/machine-learning-databases/wine/wine.data',header=None)\n",
        "df_wine.head()"
      ],
      "execution_count": 0,
      "outputs": [
        {
          "output_type": "execute_result",
          "data": {
            "text/html": [
              "<div>\n",
              "<style scoped>\n",
              "    .dataframe tbody tr th:only-of-type {\n",
              "        vertical-align: middle;\n",
              "    }\n",
              "\n",
              "    .dataframe tbody tr th {\n",
              "        vertical-align: top;\n",
              "    }\n",
              "\n",
              "    .dataframe thead th {\n",
              "        text-align: right;\n",
              "    }\n",
              "</style>\n",
              "<table border=\"1\" class=\"dataframe\">\n",
              "  <thead>\n",
              "    <tr style=\"text-align: right;\">\n",
              "      <th></th>\n",
              "      <th>0</th>\n",
              "      <th>1</th>\n",
              "      <th>2</th>\n",
              "      <th>3</th>\n",
              "      <th>4</th>\n",
              "      <th>5</th>\n",
              "      <th>6</th>\n",
              "      <th>7</th>\n",
              "      <th>8</th>\n",
              "      <th>9</th>\n",
              "      <th>10</th>\n",
              "      <th>11</th>\n",
              "      <th>12</th>\n",
              "      <th>13</th>\n",
              "    </tr>\n",
              "  </thead>\n",
              "  <tbody>\n",
              "    <tr>\n",
              "      <th>0</th>\n",
              "      <td>1</td>\n",
              "      <td>14.23</td>\n",
              "      <td>1.71</td>\n",
              "      <td>2.43</td>\n",
              "      <td>15.6</td>\n",
              "      <td>127</td>\n",
              "      <td>2.80</td>\n",
              "      <td>3.06</td>\n",
              "      <td>0.28</td>\n",
              "      <td>2.29</td>\n",
              "      <td>5.64</td>\n",
              "      <td>1.04</td>\n",
              "      <td>3.92</td>\n",
              "      <td>1065</td>\n",
              "    </tr>\n",
              "    <tr>\n",
              "      <th>1</th>\n",
              "      <td>1</td>\n",
              "      <td>13.20</td>\n",
              "      <td>1.78</td>\n",
              "      <td>2.14</td>\n",
              "      <td>11.2</td>\n",
              "      <td>100</td>\n",
              "      <td>2.65</td>\n",
              "      <td>2.76</td>\n",
              "      <td>0.26</td>\n",
              "      <td>1.28</td>\n",
              "      <td>4.38</td>\n",
              "      <td>1.05</td>\n",
              "      <td>3.40</td>\n",
              "      <td>1050</td>\n",
              "    </tr>\n",
              "    <tr>\n",
              "      <th>2</th>\n",
              "      <td>1</td>\n",
              "      <td>13.16</td>\n",
              "      <td>2.36</td>\n",
              "      <td>2.67</td>\n",
              "      <td>18.6</td>\n",
              "      <td>101</td>\n",
              "      <td>2.80</td>\n",
              "      <td>3.24</td>\n",
              "      <td>0.30</td>\n",
              "      <td>2.81</td>\n",
              "      <td>5.68</td>\n",
              "      <td>1.03</td>\n",
              "      <td>3.17</td>\n",
              "      <td>1185</td>\n",
              "    </tr>\n",
              "    <tr>\n",
              "      <th>3</th>\n",
              "      <td>1</td>\n",
              "      <td>14.37</td>\n",
              "      <td>1.95</td>\n",
              "      <td>2.50</td>\n",
              "      <td>16.8</td>\n",
              "      <td>113</td>\n",
              "      <td>3.85</td>\n",
              "      <td>3.49</td>\n",
              "      <td>0.24</td>\n",
              "      <td>2.18</td>\n",
              "      <td>7.80</td>\n",
              "      <td>0.86</td>\n",
              "      <td>3.45</td>\n",
              "      <td>1480</td>\n",
              "    </tr>\n",
              "    <tr>\n",
              "      <th>4</th>\n",
              "      <td>1</td>\n",
              "      <td>13.24</td>\n",
              "      <td>2.59</td>\n",
              "      <td>2.87</td>\n",
              "      <td>21.0</td>\n",
              "      <td>118</td>\n",
              "      <td>2.80</td>\n",
              "      <td>2.69</td>\n",
              "      <td>0.39</td>\n",
              "      <td>1.82</td>\n",
              "      <td>4.32</td>\n",
              "      <td>1.04</td>\n",
              "      <td>2.93</td>\n",
              "      <td>735</td>\n",
              "    </tr>\n",
              "  </tbody>\n",
              "</table>\n",
              "</div>"
            ],
            "text/plain": [
              "   0      1     2     3     4    5   ...    8     9     10    11    12    13\n",
              "0   1  14.23  1.71  2.43  15.6  127  ...  0.28  2.29  5.64  1.04  3.92  1065\n",
              "1   1  13.20  1.78  2.14  11.2  100  ...  0.26  1.28  4.38  1.05  3.40  1050\n",
              "2   1  13.16  2.36  2.67  18.6  101  ...  0.30  2.81  5.68  1.03  3.17  1185\n",
              "3   1  14.37  1.95  2.50  16.8  113  ...  0.24  2.18  7.80  0.86  3.45  1480\n",
              "4   1  13.24  2.59  2.87  21.0  118  ...  0.39  1.82  4.32  1.04  2.93   735\n",
              "\n",
              "[5 rows x 14 columns]"
            ]
          },
          "metadata": {
            "tags": []
          },
          "execution_count": 2
        }
      ]
    },
    {
      "cell_type": "markdown",
      "metadata": {
        "id": "24EoYp96K9Vu",
        "colab_type": "text"
      },
      "source": [
        "A continuación, procesaremos los datos del data set  _Wine_ en conjuntos de entrenamiento y de prueba, utilizando una división de 70:30, y estandarizando a la varianza de la unidad:"
      ]
    },
    {
      "cell_type": "code",
      "metadata": {
        "id": "oZN_SrkkVi-w",
        "colab_type": "code",
        "colab": {}
      },
      "source": [
        "from sklearn.model_selection import train_test_split\n",
        "from sklearn.preprocessing import StandardScaler\n",
        "\n",
        "# split into training and testing sets\n",
        "X, y = df_wine.iloc[:, 1:].values, df_wine.iloc[:, 0].values\n",
        "X_train, X_test, y_train, y_test = train_test_split(\n",
        "    X, y, test_size=0.3,\n",
        "    stratify=y, random_state=0\n",
        ")\n",
        "# standardize the features\n",
        "sc = StandardScaler()\n",
        "X_train_std = sc.fit_transform(X_train)\n",
        "X_test_std = sc.transform(X_test)"
      ],
      "execution_count": 0,
      "outputs": []
    },
    {
      "cell_type": "markdown",
      "metadata": {
        "id": "BxkCHOFYVq8N",
        "colab_type": "text"
      },
      "source": [
        "Después de completar el preprocesamiento obligatorio, avancemos al segundo paso: construir la matriz de covarianza. La matriz de covarianza simétrica d x d-dimensional, donde d es el número de dimensiones en el conjunto de datos, almacena las covarianzas por pares entre las diferentes características. Por ejemplo, la covarianza entre dos características $x_j$ y $x_k$ en el nivel de población se puede calcular mediante la siguiente ecuación:\n",
        "\n",
        "\n",
        "$$\n",
        "\\sigma_{jk} = \\displaystyle\\dfrac{1}{n}\\sum_{i=1}^{n} \\left( x_j^{(i)} - \\mu_j\\right) \\left( x_k^{(i)} - \\mu_k\\right)\n",
        "$$\n",
        "\n",
        "En donde $\\mu_j$  y $\\mu_k$ son las medias muestrales de las caracteristicas $j$  y $k$ respectivamente.\n",
        "\n",
        "Note que la media muestral es cetro si estandarizamos el dataset.Una covarianza positiva entre dos características indica que las características aumentan o disminuyen juntas, mientras que una covarianza negativa indica que las características varían en direcciones opuestas. Por ejemplo, la matriz de covarianza de tres características se puede escribir de la siguiente manera (tenga en cuenta que $\\Sigma$ representa la letra mayúscula griega sigma, que no debe confundirse con el símbolo de suma):\n",
        "\n",
        "$$\n",
        "\\Sigma = \n",
        "\\begin{bmatrix}\n",
        "\\sigma_1^2  & \\sigma_{12} & \\sigma_{13}\\\\\n",
        "\\sigma_{21} & \\sigma_2^2 & \\sigma_{23} \\\\\n",
        "\\sigma_{31} & \\sigma_{32} & \\sigma_3^2 \n",
        "\\end{bmatrix}\n",
        "$$\n",
        "\n",
        "__Los vectores propios de la matriz de covarianzas representan los componentes principales (las direcciones de la varianza máxima), mientras que los valores propios correspondientes definirán su magnitud.__ En el caso del conjunto de datos de Wine, obtendríamos 13 vectores propios y valores propios de la matriz de covarianza de 13 x 13 dimensiones.\n",
        "\n",
        "Ahora, para nuestro tercer paso, obtengamos los pares propios de la matriz de covarianza. Un vector propio $v$ cumple la siguiente condición:\n",
        "\n",
        "$$ \\Sigma \\, v = \\lambda \\, v$$\n",
        "\n",
        "Aqui, $\\lambda$ es un escalar: el autovalor. Dado que el cálculo manual de vectores propios y valores propios es una tarea un tanto tediosa y elaborada, utilizaremos la función <tt>`linalg.eig`</tt>. de NumPy para obtener los pares propios de la matriz de covarianza del dataset Wine:\n",
        "\n"
      ]
    },
    {
      "cell_type": "code",
      "metadata": {
        "id": "aQC30vrbAeZP",
        "colab_type": "code",
        "colab": {}
      },
      "source": [
        "import numpy as np\n",
        "\n",
        "cov_mat = np.cov(X_train_std.T)\n",
        "eigen_vals, eigen_vecs = np.linalg.eig(cov_mat)"
      ],
      "execution_count": 0,
      "outputs": []
    },
    {
      "cell_type": "markdown",
      "metadata": {
        "id": "LhBg0j7TBzhB",
        "colab_type": "text"
      },
      "source": [
        "Usando la función <tt>`numpy.cov`</tt> , calculamos la matriz de covarianzas del conjunto de datos de entrenamiento estandarizado. Usando la función <tt>`linalg.eig`</tt>, realizamos la descomposición propia, que produjo un vector (<tt>`eigen_vals`</tt>) que consta de 13 valores propios y los vectores propios correspondientes almacenados como columnas en una matriz de 13 x 13 dimensiones (<tt>`eigen_vecs`</tt>).\n",
        "\n",
        "## <font color='blue'>Variación total y explicada</font>\n",
        "Dado que queremos reducir la dimensionalidad de nuestro conjunto de datos comprimiéndolo en un nuevo subespacio de características, solo seleccionamos el subconjunto de los vectores propios (componentes principales) que contiene la mayor parte de la información (varianza). Los valores propios definen la magnitud de los vectores propios, por lo que tenemos que clasificar los valores propios disminuyendo la magnitud; estamos interesados en los principales vectores propios basados en los valores de sus valores propios correspondientes.\n",
        "\n",
        "Pero antes de recopilar esos $k$ vectores propios más informativos, grafiquemos los ratios de la  varianza explicada de los valores propios. Los ratios de la varianza explicada de un valor propio $\\lambda_j$ es simplemente la fracción de un valor propio $\\lambda_j$ y la suma total de los valores propios:\n",
        "\n",
        "$$\n",
        "\\dfrac{\\lambda_j}{\\sum_{j=1}^{d} \\lambda_{j}}\n",
        "$$\n",
        "\n",
        "Usando la función <tt>`cumsum`</tt> NumPy, podemos calcular la suma acumulativa de las variaciones explicadas, que luego graficaremos  mediante la función de paso de matplotlib:"
      ]
    },
    {
      "cell_type": "code",
      "metadata": {
        "id": "lYloyAfqD_11",
        "colab_type": "code",
        "outputId": "ddc0ee85-2dc0-43b4-dc47-d08defe45264",
        "colab": {
          "base_uri": "https://localhost:8080/",
          "height": 279
        }
      },
      "source": [
        "import matplotlib.pyplot as plt\n",
        "\n",
        "# calculate cumulative sum of explained variances\n",
        "tot = sum(eigen_vals)\n",
        "var_exp = [(i / tot) for i in sorted(eigen_vals, reverse=True)]\n",
        "cum_var_exp = np.cumsum(var_exp)\n",
        "\n",
        "# plot explained variances\n",
        "plt.bar(range(1,14), var_exp, alpha=0.5,\n",
        "        align='center', label='individual explained variance')\n",
        "plt.step(range(1,14), cum_var_exp, where='mid',\n",
        "         label='cumulative explained variance')\n",
        "plt.ylabel('Explained variance ratio')\n",
        "plt.xlabel('Principal component index')\n",
        "plt.legend(loc='best')\n",
        "plt.show()"
      ],
      "execution_count": 0,
      "outputs": [
        {
          "output_type": "display_data",
          "data": {
            "image/png": "[encoded data removed]",
            "text/plain": [
              "<Figure size 432x288 with 1 Axes>"
            ]
          },
          "metadata": {
            "tags": []
          }
        }
      ]
    },
    {
      "cell_type": "markdown",
      "metadata": {
        "id": "E5SqY00YEVU3",
        "colab_type": "text"
      },
      "source": [
        "La gráfica resultante indica que el primer componente principal solo representa aproximadamente el 40% de la varianza. Además, podemos ver que los dos primeros componentes principales combinados explican casi el 60% de la varianza en el conjunto de datos.\n",
        "\n",
        "## <font color='blue'>Transformación de Caracteristicas</font>\n",
        "Después de haber descompuesto con éxito la matriz de covarianza en pares propios, procedamos ahora con los últimos tres pasos de PCA para transformar el conjunto de datos de Wine en los nuevos ejes de componentes principales.\n",
        "\n",
        "Ordenaremos los pares propios por orden descendente de los valores propios, construiremos una matriz de proyección a partir de los vectores propios seleccionados y usaremos la matriz de proyección para transformar los datos en el subespacio de dimensiones inferiores.\n",
        "\n",
        "Comenzamos clasificando los pares propios disminuyendo el tamaño de los valores propios:\n"
      ]
    },
    {
      "cell_type": "code",
      "metadata": {
        "id": "VNQ90uZQGDNE",
        "colab_type": "code",
        "colab": {}
      },
      "source": [
        "# Creamos una lista de tuplas (eigenvalue, eigenvector) \n",
        "eigen_pairs = [(np.abs(eigen_vals[i]), eigen_vecs[:, i]) for i in range(len(eigen_vals))]\n",
        "\n",
        "# Ordenamos la tupla (eigenvalue, eigenvector) del mas grande al mas pequeño\n",
        "eigen_pairs.sort(key=lambda k: k[0], reverse=True)"
      ],
      "execution_count": 0,
      "outputs": []
    },
    {
      "cell_type": "markdown",
      "metadata": {
        "id": "PwhN1pOQG5Rs",
        "colab_type": "text"
      },
      "source": [
        "A continuación, recopilamos los dos vectores propios que corresponden a los dos valores propios más grandes, para capturar aproximadamente el 60% de la varianza en este conjunto de datos. Tenga en cuenta que solo elegimos dos vectores propios con fines ilustrativos, ya que vamos a trazar los datos a través de un diagrama de dispersión bidimensional más adelante en esta subsección. En la práctica, el número de componentes principales debe determinarse mediante una compensación entre la eficiencia computacional y el rendimiento del clasificador:"
      ]
    },
    {
      "cell_type": "code",
      "metadata": {
        "id": "ufta4H7iHCDm",
        "colab_type": "code",
        "outputId": "df9e9caa-9c5a-46be-daa7-49a621235d6f",
        "colab": {
          "base_uri": "https://localhost:8080/",
          "height": 255
        }
      },
      "source": [
        "w = np.hstack((eigen_pairs[0][1][:, np.newaxis], eigen_pairs[1][1][:, np.newaxis]))\n",
        "print('Matrix W:\\n', w)"
      ],
      "execution_count": 0,
      "outputs": [
        {
          "output_type": "stream",
          "text": [
            "Matrix W:\n",
            " [[-0.13724218  0.50303478]\n",
            " [ 0.24724326  0.16487119]\n",
            " [-0.02545159  0.24456476]\n",
            " [ 0.20694508 -0.11352904]\n",
            " [-0.15436582  0.28974518]\n",
            " [-0.39376952  0.05080104]\n",
            " [-0.41735106 -0.02287338]\n",
            " [ 0.30572896  0.09048885]\n",
            " [-0.30668347  0.00835233]\n",
            " [ 0.07554066  0.54977581]\n",
            " [-0.32613263 -0.20716433]\n",
            " [-0.36861022 -0.24902536]\n",
            " [-0.29669651  0.38022942]]\n"
          ],
          "name": "stdout"
        }
      ]
    },
    {
      "cell_type": "markdown",
      "metadata": {
        "id": "3BlGXQOtHImm",
        "colab_type": "text"
      },
      "source": [
        "Al ejecutar el código anterior, hemos creado una matriz de proyección $W$ de 13 x 2 dimensiones a partir de los dos vectores propios superiores.\n",
        "\n",
        "Usando la matriz de proyección, ahora podemos transformar una muestra $x$ (representada como un vector de fila de 1 x 13 ) en el subespacio PCA (los componentes principales uno y dos) obteniendo $x'$, ahora un vector de muestra bidimensional que consta de dos nuevas características:\n",
        "\n",
        "$$ x' = xW$$"
      ]
    },
    {
      "cell_type": "code",
      "metadata": {
        "id": "kKqpgOwXHelc",
        "colab_type": "code",
        "outputId": "bbe16b98-a3cd-4281-b030-31058b220d41",
        "colab": {
          "base_uri": "https://localhost:8080/",
          "height": 34
        }
      },
      "source": [
        "X_train_std[0].dot(w)\n"
      ],
      "execution_count": 0,
      "outputs": [
        {
          "output_type": "execute_result",
          "data": {
            "text/plain": [
              "array([2.38299011, 0.45458499])"
            ]
          },
          "metadata": {
            "tags": []
          },
          "execution_count": 8
        }
      ]
    },
    {
      "cell_type": "markdown",
      "metadata": {
        "id": "ilTYwrV5Hho9",
        "colab_type": "text"
      },
      "source": [
        "Del mismo modo, podemos transformar todo el conjunto de datos de entrenamiento de 124 x 13 dimensiones en los dos componentes principales calculando el producto de matriz de puntos:\n",
        "\n",
        "$$X' = XW$$"
      ]
    },
    {
      "cell_type": "code",
      "metadata": {
        "id": "3V_5UB8hHnu-",
        "colab_type": "code",
        "colab": {}
      },
      "source": [
        "X_train_pca = X_train_std.dot(w)\n"
      ],
      "execution_count": 0,
      "outputs": []
    },
    {
      "cell_type": "markdown",
      "metadata": {
        "id": "Ze5d7lk-H2zH",
        "colab_type": "text"
      },
      "source": [
        "Por último, visualicemos el conjunto de entrenamiento Wine transformado, ahora almacenado como una matriz de 124 x 2 dimensiones, en un diagrama de dispersión bidimensional:"
      ]
    },
    {
      "cell_type": "code",
      "metadata": {
        "id": "XWSi3ulBH6br",
        "colab_type": "code",
        "outputId": "89a41f07-14c8-40d9-a79e-37e88b00f39b",
        "colab": {
          "base_uri": "https://localhost:8080/",
          "height": 279
        }
      },
      "source": [
        "colors = ['r', 'b', 'g']\n",
        "markers = ['s', 'x', 'o']\n",
        "for l, c, m in zip(np.unique(y_train), colors, markers):\n",
        "    plt.scatter(X_train_pca[y_train==l, 0], \n",
        "                X_train_pca[y_train==l, 1], \n",
        "                c=c, label=l, marker=m) \n",
        "plt.xlabel('PC 1')\n",
        "plt.ylabel('PC 2')\n",
        "plt.legend(loc='lower left')\n",
        "plt.show()"
      ],
      "execution_count": 0,
      "outputs": [
        {
          "output_type": "display_data",
          "data": {
            "image/png": "[encoded data removed]",
            "text/plain": [
              "<Figure size 432x288 with 1 Axes>"
            ]
          },
          "metadata": {
            "tags": []
          }
        }
      ]
    },
    {
      "cell_type": "markdown",
      "metadata": {
        "id": "4hAmACQMIEfK",
        "colab_type": "text"
      },
      "source": [
        "Como podemos ver en el gráfico resultante, los datos están más dispersos a lo largo del eje x, el primer componente principal, que el segundo componente principal (eje y), lo cual es consistente con el gráfico de relación de varianza explicada que creamos anteriormente. Sin embargo, podemos ver intuitivamente que un clasificador lineal probablemente podrá separar bien las clases.\n",
        "\n",
        "Aunque codificamos la información de la etiqueta de clase con fines ilustrativos en el diagrama de dispersión anterior, tenemos que tener en cuenta que PCA es una técnica no supervisada que no utiliza ninguna información de etiqueta de clase."
      ]
    },
    {
      "cell_type": "markdown",
      "metadata": {
        "id": "tPj_jDoKIoHY",
        "colab_type": "text"
      },
      "source": [
        "# <font color='blue'>PCA en scikit-learn</font>\n",
        "\n",
        "Aunque el enfoque detallado en la subsección anterior nos ayudó a seguir el funcionamiento interno de PCA, ahora discutiremos cómo usar la clase de PCA implementada en <tt>`scikit-learn`</tt>. La clase PCA es otra de las clases de transformadores de <tt>`scikit-learn`</tt>, donde primero ajustamos el modelo usando los datos de entrenamiento antes de transformar tanto los datos de entrenamiento como el conjunto de datos de prueba usando los mismos parámetros del modelo.\n",
        "\n",
        "Usemos la clase PCA en el conjunto de datos de capacitación de Wine, clasifiquemos las muestras transformadas mediante regresión logística:"
      ]
    },
    {
      "cell_type": "code",
      "metadata": {
        "id": "9W8nY-AGJEbz",
        "colab_type": "code",
        "outputId": "65755810-1770-4ee2-d20d-f9735436bb49",
        "colab": {
          "base_uri": "https://localhost:8080/",
          "height": 102
        }
      },
      "source": [
        "from sklearn.linear_model import LogisticRegression\n",
        "from sklearn.decomposition import PCA\n",
        "\n",
        "# intialize pca and logistic regression model\n",
        "pca = PCA(n_components=2)\n",
        "lr = LogisticRegression(multi_class='auto', solver='liblinear')\n",
        "\n",
        "# fit and transform data\n",
        "X_train_pca = pca.fit_transform(X_train_std)\n",
        "X_test_pca = pca.transform(X_test_std)\n",
        "lr.fit(X_train_pca, y_train)"
      ],
      "execution_count": 0,
      "outputs": [
        {
          "output_type": "execute_result",
          "data": {
            "text/plain": [
              "LogisticRegression(C=1.0, class_weight=None, dual=False, fit_intercept=True,\n",
              "                   intercept_scaling=1, l1_ratio=None, max_iter=100,\n",
              "                   multi_class='auto', n_jobs=None, penalty='l2',\n",
              "                   random_state=None, solver='liblinear', tol=0.0001, verbose=0,\n",
              "                   warm_start=False)"
            ]
          },
          "metadata": {
            "tags": []
          },
          "execution_count": 12
        }
      ]
    },
    {
      "cell_type": "markdown",
      "metadata": {
        "id": "Rx3mRb27JGXa",
        "colab_type": "text"
      },
      "source": [
        "Ahora, utilizando una función personalizada <tt>`plot_decision_regions`</tt>, visualizaremos las regiones de decisión:"
      ]
    },
    {
      "cell_type": "code",
      "metadata": {
        "id": "TYQDp6omJPEe",
        "colab_type": "code",
        "outputId": "6befb148-9849-49dd-8e9d-b0131ad0ca86",
        "colab": {
          "base_uri": "https://localhost:8080/",
          "height": 279
        }
      },
      "source": [
        "from matplotlib.colors import ListedColormap\n",
        "\n",
        "def plot_decision_regions(X, y, classifier, resolution=0.02):\n",
        "    # setup marker generator and color map\n",
        "    markers = ('s', 'x', 'o', '^', 'v')\n",
        "    colors = ('red', 'blue', 'lightgreen', 'gray', 'cyan')\n",
        "    cmap = ListedColormap(colors[:len(np.unique(y))])\n",
        "\n",
        "    # plot the decision surface\n",
        "    x1_min, x1_max = X[:, 0].min() - 1, X[:, 0].max() + 1\n",
        "    x2_min, x2_max = X[:, 1].min() - 1, X[:, 1].max() + 1\n",
        "    xx1, xx2 = np.meshgrid(np.arange(x1_min, x1_max, resolution),\n",
        "                           np.arange(x2_min, x2_max, resolution))\n",
        "    Z = classifier.predict(np.array([xx1.ravel(), xx2.ravel()]).T)\n",
        "    Z = Z.reshape(xx1.shape)\n",
        "    plt.contourf(xx1, xx2, Z, alpha=0.4, cmap=cmap)\n",
        "    plt.xlim(xx1.min(), xx1.max())\n",
        "    plt.ylim(xx2.min(), xx2.max())\n",
        "\n",
        "    # plot class samples\n",
        "    for idx, cl in enumerate(np.unique(y)):\n",
        "        plt.scatter(x=X[y == cl, 0], \n",
        "                    y=X[y == cl, 1],\n",
        "                    alpha=0.6, \n",
        "                    c=[cmap(idx)],\n",
        "                    edgecolor='black',\n",
        "                    marker=markers[idx], \n",
        "                    label=cl)# plot decision regions for training set\n",
        "\n",
        "\n",
        "plot_decision_regions(X_train_pca, y_train, classifier=lr)\n",
        "plt.xlabel('PC 1')\n",
        "plt.ylabel('PC 2')\n",
        "plt.legend(loc='lower left')\n",
        "plt.show()"
      ],
      "execution_count": 0,
      "outputs": [
        {
          "output_type": "display_data",
          "data": {
            "image/png": "[encoded data removed]",
            "text/plain": [
              "<Figure size 432x288 with 1 Axes>"
            ]
          },
          "metadata": {
            "tags": []
          }
        }
      ]
    },
    {
      "cell_type": "markdown",
      "metadata": {
        "id": "dK2zT883JVrN",
        "colab_type": "text"
      },
      "source": [
        "Al ejecutar el código anterior, ahora deberíamos ver las regiones de decisión para los datos de entrenamiento reducidos a dos ejes componentes principales.\n",
        "\n",
        "En aras de la exhaustividad, tracemos también las regiones de decisión de la regresión logística en el conjunto de datos de prueba transformado para ver si puede separar bien las clases:"
      ]
    },
    {
      "cell_type": "code",
      "metadata": {
        "id": "T6mDuBQOJat8",
        "colab_type": "code",
        "outputId": "db456f61-907c-4661-eb63-54e7f1105e63",
        "colab": {
          "base_uri": "https://localhost:8080/",
          "height": 279
        }
      },
      "source": [
        "# plot decision regions for test set\n",
        "plot_decision_regions(X_test_pca, y_test, classifier=lr)\n",
        "plt.xlabel('PC1')\n",
        "plt.ylabel('PC2')\n",
        "plt.legend(loc='lower left')\n",
        "plt.show()"
      ],
      "execution_count": 0,
      "outputs": [
        {
          "output_type": "display_data",
          "data": {
            "image/png": "[encoded data removed]",
            "text/plain": [
              "<Figure size 432x288 with 1 Axes>"
            ]
          },
          "metadata": {
            "tags": []
          }
        }
      ]
    },
    {
      "cell_type": "markdown",
      "metadata": {
        "id": "z0JtDyBVJuD3",
        "colab_type": "text"
      },
      "source": [
        "Después de graficar las regiones de decisión para el conjunto de pruebas ejecutando el código anterior, podemos ver que la regresión logística funciona bastante bien en este pequeño subespacio de características bidimensionales y solo clasifica erróneamente muy pocas muestras en el conjunto de datos de prueba.\n",
        "\n",
        "Si estamos interesados en las razones de varianza explicadas de los diferentes componentes principales, simplemente podemos inicializar la clase PCA con el parámetro n_components establecido en Ninguno, de modo que todos los componentes principales se mantengan y luego se pueda acceder al ratio de varianza explicada a través del atributo explained_variance_ratio_:"
      ]
    },
    {
      "cell_type": "code",
      "metadata": {
        "id": "iy8nju-UKE4a",
        "colab_type": "code",
        "outputId": "1ef21c82-c29e-4013-d33e-c7d004702851",
        "colab": {
          "base_uri": "https://localhost:8080/",
          "height": 68
        }
      },
      "source": [
        "pca = PCA(n_components=None)\n",
        "X_train_pca = pca.fit_transform(X_train_std)\n",
        "pca.explained_variance_ratio_"
      ],
      "execution_count": 0,
      "outputs": [
        {
          "output_type": "execute_result",
          "data": {
            "text/plain": [
              "array([0.36951469, 0.18434927, 0.11815159, 0.07334252, 0.06422108,\n",
              "       0.05051724, 0.03954654, 0.02643918, 0.02389319, 0.01629614,\n",
              "       0.01380021, 0.01172226, 0.00820609])"
            ]
          },
          "metadata": {
            "tags": []
          },
          "execution_count": 15
        }
      ]
    },
    {
      "cell_type": "markdown",
      "metadata": {
        "id": "s6aRPAJDKcUu",
        "colab_type": "text"
      },
      "source": [
        "Tenga en cuenta que establecemos <tt>`n_components = None`</tt> cuando inicializamos la clase PCA para que devuelva todos los componentes principales ordenados en lugar de realizar una reducción de dimensionalidad."
      ]
    }
  ]
}